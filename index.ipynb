{
 "cells": [
  {
   "cell_type": "markdown",
   "metadata": {
    "slideshow": {
     "slide_type": "slide"
    }
   },
   "source": [
    "# Welcome to pandas demo\n",
    "\n",
    "### by Jozef Karabelly\n"
   ]
  },
  {
   "cell_type": "code",
   "execution_count": 1,
   "metadata": {
    "slideshow": {
     "slide_type": "skip"
    }
   },
   "outputs": [
    {
     "name": "stderr",
     "output_type": "stream",
     "text": [
      "/home/jkarabelly/anaconda3/lib/python3.7/site-packages/ipykernel_launcher.py:41: ParserWarning: Falling back to the 'python' engine because the 'c' engine does not support regex separators (separators > 1 char and different from '\\s+' are interpreted as regex); you can avoid this warning by specifying engine='python'.\n",
      "/home/jkarabelly/anaconda3/lib/python3.7/site-packages/ipykernel_launcher.py:44: ParserWarning: Falling back to the 'python' engine because the 'c' engine does not support regex separators (separators > 1 char and different from '\\s+' are interpreted as regex); you can avoid this warning by specifying engine='python'.\n",
      "/home/jkarabelly/anaconda3/lib/python3.7/site-packages/ipykernel_launcher.py:47: ParserWarning: Falling back to the 'python' engine because the 'c' engine does not support regex separators (separators > 1 char and different from '\\s+' are interpreted as regex); you can avoid this warning by specifying engine='python'.\n"
     ]
    }
   ],
   "source": [
    "import pandas as pd\n",
    "import numpy as np\n",
    "import matplotlib.pyplot as plt\n",
    "import random\n",
    "import string\n",
    "from datetime import time\n",
    "\n",
    "%matplotlib inline\n",
    "AAPL_PATH = './data/NASDAQ_AAPL.txt'\n",
    "PATH = './data/%s.csv'\n",
    "\n",
    "def load_bars(ticker):\n",
    "    bars = pd.read_csv(PATH % ticker)\n",
    "    bars.index = pd.to_datetime(bars.pop('Date'))\n",
    "    return bars\n",
    "\n",
    "def subsample(frame, pct=.9):\n",
    "    N = len(frame)\n",
    "    indexer = np.sort(np.random.permutation(N)[:int(pct*N)])\n",
    "    return frame.take(indexer)\n",
    "\n",
    "def rands(n):\n",
    "    choices = string.ascii_letters\n",
    "    return ''.join([random.choice(choices) for _ in range(n)])\n",
    "\n",
    "tsla_bars = load_bars('TSLA')\n",
    "ind_names = np.array(['ENERGY', 'FINANCIAL', 'TECH', 'CONSDUR', 'SERVICES', 'UTILITIES'], dtype='O')\n",
    "ccys = np.array(['USD', 'EUR'], dtype='O')\n",
    "Nfull = 2000\n",
    "tickers = np.array(sorted(rands(5).upper() for _ in range(Nfull)), dtype='O')\n",
    "tickers = np.unique(tickers)\n",
    "\n",
    "industries = pd.Series(ind_names.take(np.random.randint(0, 6, Nfull)), index=tickers, name='industry')\n",
    "ccy = pd.Series(ccys.take(np.random.randint(0, len(ccys), Nfull)), index=tickers, name='ccy')\n",
    "zscore = lambda x: (x - x.mean()) / x.std()\n",
    "\n",
    "base = './data/movielens'\n",
    "get_path = lambda x: f'{base}/{x}.dat'\n",
    "\n",
    "unames = ['user_id', 'gender', 'age', 'occupation', 'zip']\n",
    "users = pd.read_csv(get_path('users'), sep='::', names=unames, header=None)\n",
    "\n",
    "rnames = ['user_id', 'movie_id', 'rating', 'timestamp']\n",
    "ratings = pd.read_csv(get_path('ratings'), sep='::', names=rnames, header=None)\n",
    "\n",
    "mnames = ['movie_id', 'title', 'genres']\n",
    "movies = pd.read_csv(get_path('movies'), sep='::', names=mnames, header=None)"
   ]
  },
  {
   "cell_type": "markdown",
   "metadata": {
    "slideshow": {
     "slide_type": "subslide"
    }
   },
   "source": [
    "<div align=\"center\">\n",
    "  <img src=\"https://dev.pandas.io/static/img/pandas.svg\" width=\"300px\"><br>\n",
    "</div>\n",
    "\n",
    "\n",
    "# What is pandas?"
   ]
  },
  {
   "cell_type": "markdown",
   "metadata": {
    "slideshow": {
     "slide_type": "slide"
    }
   },
   "source": [
    "# Main features\n",
    "* Time series functionality\n",
    "* Data alignment\n",
    "* Missing data\n",
    "* Groupby operation\n",
    "* Merging and joining\n",
    "* Data summary\n"
   ]
  },
  {
   "cell_type": "markdown",
   "metadata": {
    "slideshow": {
     "slide_type": "slide"
    }
   },
   "source": [
    "## Load tabular data"
   ]
  },
  {
   "cell_type": "code",
   "execution_count": 2,
   "metadata": {},
   "outputs": [
    {
     "name": "stdout",
     "output_type": "stream",
     "text": [
      "<class 'pandas.core.frame.DataFrame'>\n",
      "RangeIndex: 2014 entries, 0 to 2013\n",
      "Data columns (total 7 columns):\n",
      "Ticker    2014 non-null object\n",
      "Date      2014 non-null int64\n",
      "Open      2014 non-null float64\n",
      "High      2014 non-null float64\n",
      "Low       2014 non-null float64\n",
      "Close     2014 non-null float64\n",
      "Vol       2014 non-null int64\n",
      "dtypes: float64(4), int64(2), object(1)\n",
      "memory usage: 110.2+ KB\n"
     ]
    }
   ],
   "source": [
    "aapl = pd.read_csv(AAPL_PATH)\n",
    "aapl.info()"
   ]
  },
  {
   "cell_type": "markdown",
   "metadata": {
    "slideshow": {
     "slide_type": "slide"
    }
   },
   "source": [
    "## Time series operations"
   ]
  },
  {
   "cell_type": "code",
   "execution_count": 3,
   "metadata": {
    "slideshow": {
     "slide_type": "-"
    }
   },
   "outputs": [
    {
     "data": {
      "text/html": [
       "<div>\n",
       "<style scoped>\n",
       "    .dataframe tbody tr th:only-of-type {\n",
       "        vertical-align: middle;\n",
       "    }\n",
       "\n",
       "    .dataframe tbody tr th {\n",
       "        vertical-align: top;\n",
       "    }\n",
       "\n",
       "    .dataframe thead th {\n",
       "        text-align: right;\n",
       "    }\n",
       "</style>\n",
       "<table border=\"1\" class=\"dataframe\">\n",
       "  <thead>\n",
       "    <tr style=\"text-align: right;\">\n",
       "      <th></th>\n",
       "      <th>Ticker</th>\n",
       "      <th>Open</th>\n",
       "      <th>High</th>\n",
       "      <th>Low</th>\n",
       "      <th>Close</th>\n",
       "      <th>Vol</th>\n",
       "    </tr>\n",
       "    <tr>\n",
       "      <th>Date</th>\n",
       "      <th></th>\n",
       "      <th></th>\n",
       "      <th></th>\n",
       "      <th></th>\n",
       "      <th></th>\n",
       "      <th></th>\n",
       "    </tr>\n",
       "  </thead>\n",
       "  <tbody>\n",
       "    <tr>\n",
       "      <th>2010-10-11 09:00:00</th>\n",
       "      <td>AAPL</td>\n",
       "      <td>295.01</td>\n",
       "      <td>295.05</td>\n",
       "      <td>294.82</td>\n",
       "      <td>294.82</td>\n",
       "      <td>5235</td>\n",
       "    </tr>\n",
       "    <tr>\n",
       "      <th>2010-10-11 09:05:00</th>\n",
       "      <td>AAPL</td>\n",
       "      <td>294.81</td>\n",
       "      <td>294.90</td>\n",
       "      <td>294.80</td>\n",
       "      <td>294.85</td>\n",
       "      <td>7441</td>\n",
       "    </tr>\n",
       "    <tr>\n",
       "      <th>2010-10-11 09:10:00</th>\n",
       "      <td>AAPL</td>\n",
       "      <td>294.85</td>\n",
       "      <td>294.98</td>\n",
       "      <td>294.84</td>\n",
       "      <td>294.85</td>\n",
       "      <td>4268</td>\n",
       "    </tr>\n",
       "    <tr>\n",
       "      <th>2010-10-11 09:15:00</th>\n",
       "      <td>AAPL</td>\n",
       "      <td>294.83</td>\n",
       "      <td>294.83</td>\n",
       "      <td>294.75</td>\n",
       "      <td>294.83</td>\n",
       "      <td>4012</td>\n",
       "    </tr>\n",
       "    <tr>\n",
       "      <th>2010-10-11 09:20:00</th>\n",
       "      <td>AAPL</td>\n",
       "      <td>294.80</td>\n",
       "      <td>294.82</td>\n",
       "      <td>294.64</td>\n",
       "      <td>294.67</td>\n",
       "      <td>13081</td>\n",
       "    </tr>\n",
       "  </tbody>\n",
       "</table>\n",
       "</div>"
      ],
      "text/plain": [
       "                    Ticker    Open    High     Low   Close    Vol\n",
       "Date                                                             \n",
       "2010-10-11 09:00:00   AAPL  295.01  295.05  294.82  294.82   5235\n",
       "2010-10-11 09:05:00   AAPL  294.81  294.90  294.80  294.85   7441\n",
       "2010-10-11 09:10:00   AAPL  294.85  294.98  294.84  294.85   4268\n",
       "2010-10-11 09:15:00   AAPL  294.83  294.83  294.75  294.83   4012\n",
       "2010-10-11 09:20:00   AAPL  294.80  294.82  294.64  294.67  13081"
      ]
     },
     "execution_count": 3,
     "metadata": {},
     "output_type": "execute_result"
    }
   ],
   "source": [
    "aapl.index = pd.to_datetime(aapl.pop('Date'), format='%Y%m%d%H%M')\n",
    "aapl.head()"
   ]
  },
  {
   "cell_type": "code",
   "execution_count": 4,
   "metadata": {
    "slideshow": {
     "slide_type": "subslide"
    }
   },
   "outputs": [
    {
     "data": {
      "text/html": [
       "<div>\n",
       "<style scoped>\n",
       "    .dataframe tbody tr th:only-of-type {\n",
       "        vertical-align: middle;\n",
       "    }\n",
       "\n",
       "    .dataframe tbody tr th {\n",
       "        vertical-align: top;\n",
       "    }\n",
       "\n",
       "    .dataframe thead th {\n",
       "        text-align: right;\n",
       "    }\n",
       "</style>\n",
       "<table border=\"1\" class=\"dataframe\">\n",
       "  <thead>\n",
       "    <tr style=\"text-align: right;\">\n",
       "      <th></th>\n",
       "      <th>Ticker</th>\n",
       "      <th>Open</th>\n",
       "      <th>High</th>\n",
       "      <th>Low</th>\n",
       "      <th>Close</th>\n",
       "      <th>Vol</th>\n",
       "    </tr>\n",
       "    <tr>\n",
       "      <th>Date</th>\n",
       "      <th></th>\n",
       "      <th></th>\n",
       "      <th></th>\n",
       "      <th></th>\n",
       "      <th></th>\n",
       "      <th></th>\n",
       "    </tr>\n",
       "  </thead>\n",
       "  <tbody>\n",
       "    <tr>\n",
       "      <th>2010-10-11 15:00:00</th>\n",
       "      <td>AAPL</td>\n",
       "      <td>296.95</td>\n",
       "      <td>297.08</td>\n",
       "      <td>296.84</td>\n",
       "      <td>296.92</td>\n",
       "      <td>85978</td>\n",
       "    </tr>\n",
       "    <tr>\n",
       "      <th>2010-10-12 15:00:00</th>\n",
       "      <td>AAPL</td>\n",
       "      <td>297.59</td>\n",
       "      <td>297.61</td>\n",
       "      <td>297.00</td>\n",
       "      <td>297.05</td>\n",
       "      <td>213456</td>\n",
       "    </tr>\n",
       "    <tr>\n",
       "      <th>2010-10-13 15:00:00</th>\n",
       "      <td>AAPL</td>\n",
       "      <td>300.63</td>\n",
       "      <td>300.80</td>\n",
       "      <td>300.28</td>\n",
       "      <td>300.40</td>\n",
       "      <td>239405</td>\n",
       "    </tr>\n",
       "    <tr>\n",
       "      <th>2010-10-14 15:00:00</th>\n",
       "      <td>AAPL</td>\n",
       "      <td>300.95</td>\n",
       "      <td>300.96</td>\n",
       "      <td>300.65</td>\n",
       "      <td>300.84</td>\n",
       "      <td>192060</td>\n",
       "    </tr>\n",
       "    <tr>\n",
       "      <th>2010-10-15 15:00:00</th>\n",
       "      <td>AAPL</td>\n",
       "      <td>310.78</td>\n",
       "      <td>310.82</td>\n",
       "      <td>310.60</td>\n",
       "      <td>310.68</td>\n",
       "      <td>245140</td>\n",
       "    </tr>\n",
       "    <tr>\n",
       "      <th>2010-10-18 15:00:00</th>\n",
       "      <td>AAPL</td>\n",
       "      <td>315.55</td>\n",
       "      <td>316.05</td>\n",
       "      <td>315.55</td>\n",
       "      <td>316.00</td>\n",
       "      <td>246323</td>\n",
       "    </tr>\n",
       "    <tr>\n",
       "      <th>2010-10-19 15:00:00</th>\n",
       "      <td>AAPL</td>\n",
       "      <td>308.97</td>\n",
       "      <td>309.23</td>\n",
       "      <td>308.34</td>\n",
       "      <td>308.71</td>\n",
       "      <td>247151</td>\n",
       "    </tr>\n",
       "    <tr>\n",
       "      <th>2010-10-20 15:00:00</th>\n",
       "      <td>AAPL</td>\n",
       "      <td>312.26</td>\n",
       "      <td>312.50</td>\n",
       "      <td>312.04</td>\n",
       "      <td>312.19</td>\n",
       "      <td>165225</td>\n",
       "    </tr>\n",
       "    <tr>\n",
       "      <th>2010-10-21 15:00:00</th>\n",
       "      <td>AAPL</td>\n",
       "      <td>309.07</td>\n",
       "      <td>309.36</td>\n",
       "      <td>308.92</td>\n",
       "      <td>309.19</td>\n",
       "      <td>145859</td>\n",
       "    </tr>\n",
       "    <tr>\n",
       "      <th>2010-10-22 15:00:00</th>\n",
       "      <td>AAPL</td>\n",
       "      <td>308.31</td>\n",
       "      <td>308.33</td>\n",
       "      <td>308.06</td>\n",
       "      <td>308.27</td>\n",
       "      <td>141793</td>\n",
       "    </tr>\n",
       "  </tbody>\n",
       "</table>\n",
       "</div>"
      ],
      "text/plain": [
       "                    Ticker    Open    High     Low   Close     Vol\n",
       "Date                                                              \n",
       "2010-10-11 15:00:00   AAPL  296.95  297.08  296.84  296.92   85978\n",
       "2010-10-12 15:00:00   AAPL  297.59  297.61  297.00  297.05  213456\n",
       "2010-10-13 15:00:00   AAPL  300.63  300.80  300.28  300.40  239405\n",
       "2010-10-14 15:00:00   AAPL  300.95  300.96  300.65  300.84  192060\n",
       "2010-10-15 15:00:00   AAPL  310.78  310.82  310.60  310.68  245140\n",
       "2010-10-18 15:00:00   AAPL  315.55  316.05  315.55  316.00  246323\n",
       "2010-10-19 15:00:00   AAPL  308.97  309.23  308.34  308.71  247151\n",
       "2010-10-20 15:00:00   AAPL  312.26  312.50  312.04  312.19  165225\n",
       "2010-10-21 15:00:00   AAPL  309.07  309.36  308.92  309.19  145859\n",
       "2010-10-22 15:00:00   AAPL  308.31  308.33  308.06  308.27  141793"
      ]
     },
     "execution_count": 4,
     "metadata": {},
     "output_type": "execute_result"
    }
   ],
   "source": [
    "aapl.at_time(time(15, 0)).head(10)"
   ]
  },
  {
   "cell_type": "code",
   "execution_count": 5,
   "metadata": {
    "slideshow": {
     "slide_type": "subslide"
    }
   },
   "outputs": [
    {
     "data": {
      "text/plain": [
       "Date\n",
       "2010-11-01 09:00:00    302.02\n",
       "2010-11-01 09:05:00    302.01\n",
       "2010-11-01 09:10:00    301.97\n",
       "2010-11-01 09:15:00    301.99\n",
       "2010-11-01 09:20:00    302.25\n",
       "Name: Close, dtype: float64"
      ]
     },
     "execution_count": 5,
     "metadata": {},
     "output_type": "execute_result"
    }
   ],
   "source": [
    "aapl.Close['2010-11-01'].head()"
   ]
  },
  {
   "cell_type": "code",
   "execution_count": 6,
   "metadata": {
    "slideshow": {
     "slide_type": "subslide"
    }
   },
   "outputs": [
    {
     "data": {
      "text/html": [
       "<div>\n",
       "<style scoped>\n",
       "    .dataframe tbody tr th:only-of-type {\n",
       "        vertical-align: middle;\n",
       "    }\n",
       "\n",
       "    .dataframe tbody tr th {\n",
       "        vertical-align: top;\n",
       "    }\n",
       "\n",
       "    .dataframe thead th {\n",
       "        text-align: right;\n",
       "    }\n",
       "</style>\n",
       "<table border=\"1\" class=\"dataframe\">\n",
       "  <thead>\n",
       "    <tr style=\"text-align: right;\">\n",
       "      <th></th>\n",
       "      <th>median</th>\n",
       "      <th>mean</th>\n",
       "      <th>std</th>\n",
       "    </tr>\n",
       "    <tr>\n",
       "      <th>Date</th>\n",
       "      <th></th>\n",
       "      <th></th>\n",
       "      <th></th>\n",
       "    </tr>\n",
       "  </thead>\n",
       "  <tbody>\n",
       "    <tr>\n",
       "      <th>2010-10-31</th>\n",
       "      <td>307.555</td>\n",
       "      <td>306.255627</td>\n",
       "      <td>5.602958</td>\n",
       "    </tr>\n",
       "    <tr>\n",
       "      <th>2010-11-30</th>\n",
       "      <td>313.365</td>\n",
       "      <td>313.001809</td>\n",
       "      <td>5.649473</td>\n",
       "    </tr>\n",
       "  </tbody>\n",
       "</table>\n",
       "</div>"
      ],
      "text/plain": [
       "             median        mean       std\n",
       "Date                                     \n",
       "2010-10-31  307.555  306.255627  5.602958\n",
       "2010-11-30  313.365  313.001809  5.649473"
      ]
     },
     "execution_count": 6,
     "metadata": {},
     "output_type": "execute_result"
    }
   ],
   "source": [
    "month_agg = aapl.Close.resample('M').agg(['median', 'mean', 'std'])\n",
    "month_agg"
   ]
  },
  {
   "cell_type": "code",
   "execution_count": 7,
   "metadata": {
    "slideshow": {
     "slide_type": "subslide"
    }
   },
   "outputs": [
    {
     "data": {
      "image/png": "[encoded data removed]",
      "text/plain": [
       "<Figure size 432x288 with 1 Axes>"
      ]
     },
     "metadata": {
      "needs_background": "light"
     },
     "output_type": "display_data"
    }
   ],
   "source": [
    "returns = aapl.Close.pct_change()\n",
    "std_day = returns.rolling(95).std()\n",
    "std_day.resample('B').plot();"
   ]
  },
  {
   "cell_type": "markdown",
   "metadata": {
    "slideshow": {
     "slide_type": "slide"
    }
   },
   "source": [
    "## Data alignment"
   ]
  },
  {
   "cell_type": "code",
   "execution_count": 8,
   "metadata": {},
   "outputs": [
    {
     "data": {
      "text/plain": [
       "2010-10-10    0.037634\n",
       "2010-10-11    0.091527\n",
       "2010-10-12    0.873231\n",
       "2010-10-13    0.104794\n",
       "2010-10-14    0.347882\n",
       "2010-10-15    0.475616\n",
       "2010-10-16    0.658837\n",
       "2010-10-17    0.194715\n",
       "2010-10-18    0.811148\n",
       "2010-10-19    0.952716\n",
       "Freq: D, dtype: float64"
      ]
     },
     "execution_count": 8,
     "metadata": {},
     "output_type": "execute_result"
    }
   ],
   "source": [
    "ts1 = pd.Series(np.random.rand(10), index=pd.date_range('2010-10-10', periods=10))\n",
    "ts1"
   ]
  },
  {
   "cell_type": "code",
   "execution_count": 9,
   "metadata": {
    "slideshow": {
     "slide_type": "subslide"
    }
   },
   "outputs": [
    {
     "data": {
      "text/plain": [
       "2010-10-10    0.037634\n",
       "2010-10-12    0.873231\n",
       "2010-10-14    0.347882\n",
       "2010-10-15    0.475616\n",
       "2010-10-17    0.194715\n",
       "2010-10-18    0.811148\n",
       "2010-10-19    0.952716\n",
       "dtype: float64"
      ]
     },
     "execution_count": 9,
     "metadata": {},
     "output_type": "execute_result"
    }
   ],
   "source": [
    "ts2 = ts1[[0, 2, 4, 5, 7, 8, 9]]\n",
    "ts2"
   ]
  },
  {
   "cell_type": "code",
   "execution_count": 10,
   "metadata": {
    "slideshow": {
     "slide_type": "subslide"
    }
   },
   "outputs": [
    {
     "data": {
      "text/plain": [
       "2010-10-10    0.075268\n",
       "2010-10-11         NaN\n",
       "2010-10-12    1.746463\n",
       "2010-10-13         NaN\n",
       "2010-10-14    0.695765\n",
       "2010-10-15    0.951232\n",
       "2010-10-16         NaN\n",
       "2010-10-17    0.389431\n",
       "2010-10-18    1.622295\n",
       "2010-10-19    1.905432\n",
       "dtype: float64"
      ]
     },
     "execution_count": 10,
     "metadata": {},
     "output_type": "execute_result"
    }
   ],
   "source": [
    "ts1 + ts2"
   ]
  },
  {
   "cell_type": "code",
   "execution_count": 11,
   "metadata": {
    "slideshow": {
     "slide_type": "subslide"
    }
   },
   "outputs": [
    {
     "data": {
      "text/html": [
       "<div>\n",
       "<style scoped>\n",
       "    .dataframe tbody tr th:only-of-type {\n",
       "        vertical-align: middle;\n",
       "    }\n",
       "\n",
       "    .dataframe tbody tr th {\n",
       "        vertical-align: top;\n",
       "    }\n",
       "\n",
       "    .dataframe thead th {\n",
       "        text-align: right;\n",
       "    }\n",
       "</style>\n",
       "<table border=\"1\" class=\"dataframe\">\n",
       "  <thead>\n",
       "    <tr style=\"text-align: right;\">\n",
       "      <th></th>\n",
       "      <th>A</th>\n",
       "      <th>B</th>\n",
       "    </tr>\n",
       "  </thead>\n",
       "  <tbody>\n",
       "    <tr>\n",
       "      <th>2010-10-10</th>\n",
       "      <td>0.037634</td>\n",
       "      <td>0.037634</td>\n",
       "    </tr>\n",
       "    <tr>\n",
       "      <th>2010-10-11</th>\n",
       "      <td>0.091527</td>\n",
       "      <td>NaN</td>\n",
       "    </tr>\n",
       "    <tr>\n",
       "      <th>2010-10-12</th>\n",
       "      <td>0.873231</td>\n",
       "      <td>0.873231</td>\n",
       "    </tr>\n",
       "    <tr>\n",
       "      <th>2010-10-13</th>\n",
       "      <td>0.104794</td>\n",
       "      <td>NaN</td>\n",
       "    </tr>\n",
       "    <tr>\n",
       "      <th>2010-10-14</th>\n",
       "      <td>0.347882</td>\n",
       "      <td>0.347882</td>\n",
       "    </tr>\n",
       "    <tr>\n",
       "      <th>2010-10-15</th>\n",
       "      <td>0.475616</td>\n",
       "      <td>0.475616</td>\n",
       "    </tr>\n",
       "    <tr>\n",
       "      <th>2010-10-16</th>\n",
       "      <td>0.658837</td>\n",
       "      <td>NaN</td>\n",
       "    </tr>\n",
       "    <tr>\n",
       "      <th>2010-10-17</th>\n",
       "      <td>0.194715</td>\n",
       "      <td>0.194715</td>\n",
       "    </tr>\n",
       "    <tr>\n",
       "      <th>2010-10-18</th>\n",
       "      <td>0.811148</td>\n",
       "      <td>0.811148</td>\n",
       "    </tr>\n",
       "    <tr>\n",
       "      <th>2010-10-19</th>\n",
       "      <td>0.952716</td>\n",
       "      <td>0.952716</td>\n",
       "    </tr>\n",
       "  </tbody>\n",
       "</table>\n",
       "</div>"
      ],
      "text/plain": [
       "                   A         B\n",
       "2010-10-10  0.037634  0.037634\n",
       "2010-10-11  0.091527       NaN\n",
       "2010-10-12  0.873231  0.873231\n",
       "2010-10-13  0.104794       NaN\n",
       "2010-10-14  0.347882  0.347882\n",
       "2010-10-15  0.475616  0.475616\n",
       "2010-10-16  0.658837       NaN\n",
       "2010-10-17  0.194715  0.194715\n",
       "2010-10-18  0.811148  0.811148\n",
       "2010-10-19  0.952716  0.952716"
      ]
     },
     "execution_count": 11,
     "metadata": {},
     "output_type": "execute_result"
    }
   ],
   "source": [
    "df = pd.DataFrame({'A': ts1, 'B': ts2})\n",
    "df"
   ]
  },
  {
   "cell_type": "code",
   "execution_count": 12,
   "metadata": {
    "slideshow": {
     "slide_type": "subslide"
    }
   },
   "outputs": [],
   "source": [
    "amd_bars = load_bars('AMD')"
   ]
  },
  {
   "cell_type": "code",
   "execution_count": 13,
   "metadata": {},
   "outputs": [
    {
     "name": "stdout",
     "output_type": "stream",
     "text": [
      "<class 'pandas.core.frame.DataFrame'>\n",
      "DatetimeIndex: 3600 entries, 2001-02-05 to 2016-12-30\n",
      "Data columns (total 5 columns):\n",
      "Open      3600 non-null float64\n",
      "High      3600 non-null float64\n",
      "Low       3600 non-null float64\n",
      "Close     3600 non-null float64\n",
      "Volume    3600 non-null int64\n",
      "dtypes: float64(4), int64(1)\n",
      "memory usage: 168.8 KB\n"
     ]
    }
   ],
   "source": [
    "f1 = subsample(amd_bars)\n",
    "f2 = subsample(tsla_bars)\n",
    "f1.info()"
   ]
  },
  {
   "cell_type": "code",
   "execution_count": 14,
   "metadata": {
    "slideshow": {
     "slide_type": "subslide"
    }
   },
   "outputs": [
    {
     "data": {
      "text/html": [
       "<div>\n",
       "<style scoped>\n",
       "    .dataframe tbody tr th:only-of-type {\n",
       "        vertical-align: middle;\n",
       "    }\n",
       "\n",
       "    .dataframe tbody tr th {\n",
       "        vertical-align: top;\n",
       "    }\n",
       "\n",
       "    .dataframe thead tr th {\n",
       "        text-align: left;\n",
       "    }\n",
       "\n",
       "    .dataframe thead tr:last-of-type th {\n",
       "        text-align: right;\n",
       "    }\n",
       "</style>\n",
       "<table border=\"1\" class=\"dataframe\">\n",
       "  <thead>\n",
       "    <tr>\n",
       "      <th></th>\n",
       "      <th colspan=\"5\" halign=\"left\">AMD</th>\n",
       "      <th colspan=\"5\" halign=\"left\">TSLA</th>\n",
       "    </tr>\n",
       "    <tr>\n",
       "      <th></th>\n",
       "      <th>Open</th>\n",
       "      <th>High</th>\n",
       "      <th>Low</th>\n",
       "      <th>Close</th>\n",
       "      <th>Volume</th>\n",
       "      <th>Open</th>\n",
       "      <th>High</th>\n",
       "      <th>Low</th>\n",
       "      <th>Close</th>\n",
       "      <th>Volume</th>\n",
       "    </tr>\n",
       "    <tr>\n",
       "      <th>Date</th>\n",
       "      <th></th>\n",
       "      <th></th>\n",
       "      <th></th>\n",
       "      <th></th>\n",
       "      <th></th>\n",
       "      <th></th>\n",
       "      <th></th>\n",
       "      <th></th>\n",
       "      <th></th>\n",
       "      <th></th>\n",
       "    </tr>\n",
       "  </thead>\n",
       "  <tbody>\n",
       "    <tr>\n",
       "      <th>2001-02-05</th>\n",
       "      <td>23.64</td>\n",
       "      <td>24.04</td>\n",
       "      <td>22.96</td>\n",
       "      <td>24.00</td>\n",
       "      <td>6051700.0</td>\n",
       "      <td>NaN</td>\n",
       "      <td>NaN</td>\n",
       "      <td>NaN</td>\n",
       "      <td>NaN</td>\n",
       "      <td>NaN</td>\n",
       "    </tr>\n",
       "    <tr>\n",
       "      <th>2001-02-06</th>\n",
       "      <td>23.75</td>\n",
       "      <td>24.70</td>\n",
       "      <td>23.75</td>\n",
       "      <td>24.05</td>\n",
       "      <td>4136700.0</td>\n",
       "      <td>NaN</td>\n",
       "      <td>NaN</td>\n",
       "      <td>NaN</td>\n",
       "      <td>NaN</td>\n",
       "      <td>NaN</td>\n",
       "    </tr>\n",
       "    <tr>\n",
       "      <th>2001-02-07</th>\n",
       "      <td>23.70</td>\n",
       "      <td>24.21</td>\n",
       "      <td>23.06</td>\n",
       "      <td>23.57</td>\n",
       "      <td>3803500.0</td>\n",
       "      <td>NaN</td>\n",
       "      <td>NaN</td>\n",
       "      <td>NaN</td>\n",
       "      <td>NaN</td>\n",
       "      <td>NaN</td>\n",
       "    </tr>\n",
       "    <tr>\n",
       "      <th>2001-02-08</th>\n",
       "      <td>23.98</td>\n",
       "      <td>24.75</td>\n",
       "      <td>23.70</td>\n",
       "      <td>24.00</td>\n",
       "      <td>6493100.0</td>\n",
       "      <td>NaN</td>\n",
       "      <td>NaN</td>\n",
       "      <td>NaN</td>\n",
       "      <td>NaN</td>\n",
       "      <td>NaN</td>\n",
       "    </tr>\n",
       "    <tr>\n",
       "      <th>2001-02-09</th>\n",
       "      <td>23.95</td>\n",
       "      <td>24.80</td>\n",
       "      <td>23.80</td>\n",
       "      <td>24.37</td>\n",
       "      <td>7580300.0</td>\n",
       "      <td>NaN</td>\n",
       "      <td>NaN</td>\n",
       "      <td>NaN</td>\n",
       "      <td>NaN</td>\n",
       "      <td>NaN</td>\n",
       "    </tr>\n",
       "  </tbody>\n",
       "</table>\n",
       "</div>"
      ],
      "text/plain": [
       "              AMD                                 TSLA                      \n",
       "             Open   High    Low  Close     Volume Open High Low Close Volume\n",
       "Date                                                                        \n",
       "2001-02-05  23.64  24.04  22.96  24.00  6051700.0  NaN  NaN NaN   NaN    NaN\n",
       "2001-02-06  23.75  24.70  23.75  24.05  4136700.0  NaN  NaN NaN   NaN    NaN\n",
       "2001-02-07  23.70  24.21  23.06  23.57  3803500.0  NaN  NaN NaN   NaN    NaN\n",
       "2001-02-08  23.98  24.75  23.70  24.00  6493100.0  NaN  NaN NaN   NaN    NaN\n",
       "2001-02-09  23.95  24.80  23.80  24.37  7580300.0  NaN  NaN NaN   NaN    NaN"
      ]
     },
     "execution_count": 14,
     "metadata": {},
     "output_type": "execute_result"
    }
   ],
   "source": [
    "both = pd.concat([f1, f2], axis=1, keys=['AMD', 'TSLA'])\n",
    "both.head()"
   ]
  },
  {
   "cell_type": "markdown",
   "metadata": {
    "slideshow": {
     "slide_type": "slide"
    }
   },
   "source": [
    "## Missing data"
   ]
  },
  {
   "cell_type": "code",
   "execution_count": 15,
   "metadata": {},
   "outputs": [
    {
     "data": {
      "text/html": [
       "<div>\n",
       "<style scoped>\n",
       "    .dataframe tbody tr th:only-of-type {\n",
       "        vertical-align: middle;\n",
       "    }\n",
       "\n",
       "    .dataframe tbody tr th {\n",
       "        vertical-align: top;\n",
       "    }\n",
       "\n",
       "    .dataframe thead th {\n",
       "        text-align: right;\n",
       "    }\n",
       "</style>\n",
       "<table border=\"1\" class=\"dataframe\">\n",
       "  <thead>\n",
       "    <tr style=\"text-align: right;\">\n",
       "      <th></th>\n",
       "      <th>A</th>\n",
       "      <th>B</th>\n",
       "    </tr>\n",
       "  </thead>\n",
       "  <tbody>\n",
       "    <tr>\n",
       "      <th>2010-10-10</th>\n",
       "      <td>0.037634</td>\n",
       "      <td>0.037634</td>\n",
       "    </tr>\n",
       "    <tr>\n",
       "      <th>2010-10-11</th>\n",
       "      <td>0.091527</td>\n",
       "      <td>NaN</td>\n",
       "    </tr>\n",
       "    <tr>\n",
       "      <th>2010-10-12</th>\n",
       "      <td>0.873231</td>\n",
       "      <td>0.873231</td>\n",
       "    </tr>\n",
       "    <tr>\n",
       "      <th>2010-10-13</th>\n",
       "      <td>0.104794</td>\n",
       "      <td>NaN</td>\n",
       "    </tr>\n",
       "    <tr>\n",
       "      <th>2010-10-14</th>\n",
       "      <td>0.347882</td>\n",
       "      <td>0.347882</td>\n",
       "    </tr>\n",
       "  </tbody>\n",
       "</table>\n",
       "</div>"
      ],
      "text/plain": [
       "                   A         B\n",
       "2010-10-10  0.037634  0.037634\n",
       "2010-10-11  0.091527       NaN\n",
       "2010-10-12  0.873231  0.873231\n",
       "2010-10-13  0.104794       NaN\n",
       "2010-10-14  0.347882  0.347882"
      ]
     },
     "execution_count": 15,
     "metadata": {},
     "output_type": "execute_result"
    }
   ],
   "source": [
    "df.head()"
   ]
  },
  {
   "cell_type": "code",
   "execution_count": 16,
   "metadata": {},
   "outputs": [
    {
     "data": {
      "text/plain": [
       "A    10\n",
       "B     7\n",
       "dtype: int64"
      ]
     },
     "execution_count": 16,
     "metadata": {},
     "output_type": "execute_result"
    }
   ],
   "source": [
    "df.count()"
   ]
  },
  {
   "cell_type": "code",
   "execution_count": 17,
   "metadata": {
    "slideshow": {
     "slide_type": "subslide"
    }
   },
   "outputs": [
    {
     "data": {
      "text/plain": [
       "A    4.548102\n",
       "B    3.692943\n",
       "dtype: float64"
      ]
     },
     "execution_count": 17,
     "metadata": {},
     "output_type": "execute_result"
    }
   ],
   "source": [
    "df.sum()"
   ]
  },
  {
   "cell_type": "code",
   "execution_count": 18,
   "metadata": {},
   "outputs": [
    {
     "data": {
      "text/plain": [
       "2010-10-10    0.037634\n",
       "2010-10-11    0.091527\n",
       "2010-10-12    0.873231\n",
       "2010-10-13    0.104794\n",
       "2010-10-14    0.347882\n",
       "2010-10-15    0.475616\n",
       "2010-10-16    0.658837\n",
       "2010-10-17    0.194715\n",
       "2010-10-18    0.811148\n",
       "2010-10-19    0.952716\n",
       "dtype: float64"
      ]
     },
     "execution_count": 18,
     "metadata": {},
     "output_type": "execute_result"
    }
   ],
   "source": [
    "df.mean(1)"
   ]
  },
  {
   "cell_type": "code",
   "execution_count": 19,
   "metadata": {
    "slideshow": {
     "slide_type": "subslide"
    }
   },
   "outputs": [
    {
     "data": {
      "text/html": [
       "<div>\n",
       "<style scoped>\n",
       "    .dataframe tbody tr th:only-of-type {\n",
       "        vertical-align: middle;\n",
       "    }\n",
       "\n",
       "    .dataframe tbody tr th {\n",
       "        vertical-align: top;\n",
       "    }\n",
       "\n",
       "    .dataframe thead th {\n",
       "        text-align: right;\n",
       "    }\n",
       "</style>\n",
       "<table border=\"1\" class=\"dataframe\">\n",
       "  <thead>\n",
       "    <tr style=\"text-align: right;\">\n",
       "      <th></th>\n",
       "      <th>A</th>\n",
       "      <th>B</th>\n",
       "    </tr>\n",
       "  </thead>\n",
       "  <tbody>\n",
       "    <tr>\n",
       "      <th>2010-10-10</th>\n",
       "      <td>0.037634</td>\n",
       "      <td>0.037634</td>\n",
       "    </tr>\n",
       "    <tr>\n",
       "      <th>2010-10-12</th>\n",
       "      <td>0.873231</td>\n",
       "      <td>0.873231</td>\n",
       "    </tr>\n",
       "    <tr>\n",
       "      <th>2010-10-14</th>\n",
       "      <td>0.347882</td>\n",
       "      <td>0.347882</td>\n",
       "    </tr>\n",
       "    <tr>\n",
       "      <th>2010-10-15</th>\n",
       "      <td>0.475616</td>\n",
       "      <td>0.475616</td>\n",
       "    </tr>\n",
       "    <tr>\n",
       "      <th>2010-10-17</th>\n",
       "      <td>0.194715</td>\n",
       "      <td>0.194715</td>\n",
       "    </tr>\n",
       "    <tr>\n",
       "      <th>2010-10-18</th>\n",
       "      <td>0.811148</td>\n",
       "      <td>0.811148</td>\n",
       "    </tr>\n",
       "    <tr>\n",
       "      <th>2010-10-19</th>\n",
       "      <td>0.952716</td>\n",
       "      <td>0.952716</td>\n",
       "    </tr>\n",
       "  </tbody>\n",
       "</table>\n",
       "</div>"
      ],
      "text/plain": [
       "                   A         B\n",
       "2010-10-10  0.037634  0.037634\n",
       "2010-10-12  0.873231  0.873231\n",
       "2010-10-14  0.347882  0.347882\n",
       "2010-10-15  0.475616  0.475616\n",
       "2010-10-17  0.194715  0.194715\n",
       "2010-10-18  0.811148  0.811148\n",
       "2010-10-19  0.952716  0.952716"
      ]
     },
     "execution_count": 19,
     "metadata": {},
     "output_type": "execute_result"
    }
   ],
   "source": [
    "df.dropna()"
   ]
  },
  {
   "cell_type": "code",
   "execution_count": 20,
   "metadata": {
    "slideshow": {
     "slide_type": "subslide"
    }
   },
   "outputs": [
    {
     "data": {
      "text/html": [
       "<div>\n",
       "<style scoped>\n",
       "    .dataframe tbody tr th:only-of-type {\n",
       "        vertical-align: middle;\n",
       "    }\n",
       "\n",
       "    .dataframe tbody tr th {\n",
       "        vertical-align: top;\n",
       "    }\n",
       "\n",
       "    .dataframe thead th {\n",
       "        text-align: right;\n",
       "    }\n",
       "</style>\n",
       "<table border=\"1\" class=\"dataframe\">\n",
       "  <thead>\n",
       "    <tr style=\"text-align: right;\">\n",
       "      <th></th>\n",
       "      <th>A</th>\n",
       "      <th>B</th>\n",
       "    </tr>\n",
       "  </thead>\n",
       "  <tbody>\n",
       "    <tr>\n",
       "      <th>2010-10-10</th>\n",
       "      <td>0.037634</td>\n",
       "      <td>0.037634</td>\n",
       "    </tr>\n",
       "    <tr>\n",
       "      <th>2010-10-11</th>\n",
       "      <td>0.091527</td>\n",
       "      <td>0.000000</td>\n",
       "    </tr>\n",
       "    <tr>\n",
       "      <th>2010-10-12</th>\n",
       "      <td>0.873231</td>\n",
       "      <td>0.873231</td>\n",
       "    </tr>\n",
       "    <tr>\n",
       "      <th>2010-10-13</th>\n",
       "      <td>0.104794</td>\n",
       "      <td>0.000000</td>\n",
       "    </tr>\n",
       "    <tr>\n",
       "      <th>2010-10-14</th>\n",
       "      <td>0.347882</td>\n",
       "      <td>0.347882</td>\n",
       "    </tr>\n",
       "    <tr>\n",
       "      <th>2010-10-15</th>\n",
       "      <td>0.475616</td>\n",
       "      <td>0.475616</td>\n",
       "    </tr>\n",
       "    <tr>\n",
       "      <th>2010-10-16</th>\n",
       "      <td>0.658837</td>\n",
       "      <td>0.000000</td>\n",
       "    </tr>\n",
       "    <tr>\n",
       "      <th>2010-10-17</th>\n",
       "      <td>0.194715</td>\n",
       "      <td>0.194715</td>\n",
       "    </tr>\n",
       "    <tr>\n",
       "      <th>2010-10-18</th>\n",
       "      <td>0.811148</td>\n",
       "      <td>0.811148</td>\n",
       "    </tr>\n",
       "    <tr>\n",
       "      <th>2010-10-19</th>\n",
       "      <td>0.952716</td>\n",
       "      <td>0.952716</td>\n",
       "    </tr>\n",
       "  </tbody>\n",
       "</table>\n",
       "</div>"
      ],
      "text/plain": [
       "                   A         B\n",
       "2010-10-10  0.037634  0.037634\n",
       "2010-10-11  0.091527  0.000000\n",
       "2010-10-12  0.873231  0.873231\n",
       "2010-10-13  0.104794  0.000000\n",
       "2010-10-14  0.347882  0.347882\n",
       "2010-10-15  0.475616  0.475616\n",
       "2010-10-16  0.658837  0.000000\n",
       "2010-10-17  0.194715  0.194715\n",
       "2010-10-18  0.811148  0.811148\n",
       "2010-10-19  0.952716  0.952716"
      ]
     },
     "execution_count": 20,
     "metadata": {},
     "output_type": "execute_result"
    }
   ],
   "source": [
    "df.fillna(0) # method='ffill'"
   ]
  },
  {
   "cell_type": "markdown",
   "metadata": {
    "slideshow": {
     "slide_type": "slide"
    }
   },
   "source": [
    "## Groupby operation"
   ]
  },
  {
   "cell_type": "code",
   "execution_count": 21,
   "metadata": {},
   "outputs": [
    {
     "data": {
      "text/html": [
       "<div>\n",
       "<style scoped>\n",
       "    .dataframe tbody tr th:only-of-type {\n",
       "        vertical-align: middle;\n",
       "    }\n",
       "\n",
       "    .dataframe tbody tr th {\n",
       "        vertical-align: top;\n",
       "    }\n",
       "\n",
       "    .dataframe thead th {\n",
       "        text-align: right;\n",
       "    }\n",
       "</style>\n",
       "<table border=\"1\" class=\"dataframe\">\n",
       "  <thead>\n",
       "    <tr style=\"text-align: right;\">\n",
       "      <th></th>\n",
       "      <th>Momentum</th>\n",
       "      <th>Value</th>\n",
       "      <th>ShortInterest</th>\n",
       "    </tr>\n",
       "  </thead>\n",
       "  <tbody>\n",
       "    <tr>\n",
       "      <th>ITTZS</th>\n",
       "      <td>0.027625</td>\n",
       "      <td>0.077598</td>\n",
       "      <td>-0.017736</td>\n",
       "    </tr>\n",
       "    <tr>\n",
       "      <th>ADFZM</th>\n",
       "      <td>0.036310</td>\n",
       "      <td>0.079167</td>\n",
       "      <td>-0.011027</td>\n",
       "    </tr>\n",
       "    <tr>\n",
       "      <th>WRHMN</th>\n",
       "      <td>0.021350</td>\n",
       "      <td>0.080267</td>\n",
       "      <td>-0.021218</td>\n",
       "    </tr>\n",
       "    <tr>\n",
       "      <th>VKWPN</th>\n",
       "      <td>0.029292</td>\n",
       "      <td>0.083394</td>\n",
       "      <td>-0.006308</td>\n",
       "    </tr>\n",
       "    <tr>\n",
       "      <th>JLPZI</th>\n",
       "      <td>0.028331</td>\n",
       "      <td>0.067340</td>\n",
       "      <td>-0.022168</td>\n",
       "    </tr>\n",
       "  </tbody>\n",
       "</table>\n",
       "</div>"
      ],
      "text/plain": [
       "       Momentum     Value  ShortInterest\n",
       "ITTZS  0.027625  0.077598      -0.017736\n",
       "ADFZM  0.036310  0.079167      -0.011027\n",
       "WRHMN  0.021350  0.080267      -0.021218\n",
       "VKWPN  0.029292  0.083394      -0.006308\n",
       "JLPZI  0.028331  0.067340      -0.022168"
      ]
     },
     "execution_count": 21,
     "metadata": {},
     "output_type": "execute_result"
    }
   ],
   "source": [
    "df = pd.DataFrame({'Momentum': np.random.randn(1000) / 200 + 0.03,\n",
    "                   'Value': np.random.randn(1000) / 200 + 0.08,\n",
    "                   'ShortInterest': np.random.randn(1000) / 200 - 0.02},\n",
    "                 index=tickers.take(np.random.permutation(Nfull)[:1000]))\n",
    "df.head()"
   ]
  },
  {
   "cell_type": "code",
   "execution_count": 22,
   "metadata": {
    "slideshow": {
     "slide_type": "subslide"
    }
   },
   "outputs": [
    {
     "data": {
      "image/png": "[encoded data removed]",
      "text/plain": [
       "<Figure size 432x288 with 1 Axes>"
      ]
     },
     "metadata": {
      "needs_background": "light"
     },
     "output_type": "display_data"
    }
   ],
   "source": [
    "means = df.groupby(industries).mean()\n",
    "means.plot(kind='barh');"
   ]
  },
  {
   "cell_type": "code",
   "execution_count": 23,
   "metadata": {
    "slideshow": {
     "slide_type": "subslide"
    }
   },
   "outputs": [
    {
     "data": {
      "text/html": [
       "<div>\n",
       "<style scoped>\n",
       "    .dataframe tbody tr th:only-of-type {\n",
       "        vertical-align: middle;\n",
       "    }\n",
       "\n",
       "    .dataframe tbody tr th {\n",
       "        vertical-align: top;\n",
       "    }\n",
       "\n",
       "    .dataframe thead th {\n",
       "        text-align: right;\n",
       "    }\n",
       "</style>\n",
       "<table border=\"1\" class=\"dataframe\">\n",
       "  <thead>\n",
       "    <tr style=\"text-align: right;\">\n",
       "      <th></th>\n",
       "      <th></th>\n",
       "      <th>Momentum</th>\n",
       "      <th>Value</th>\n",
       "      <th>ShortInterest</th>\n",
       "    </tr>\n",
       "    <tr>\n",
       "      <th>industry</th>\n",
       "      <th>ccy</th>\n",
       "      <th></th>\n",
       "      <th></th>\n",
       "      <th></th>\n",
       "    </tr>\n",
       "  </thead>\n",
       "  <tbody>\n",
       "    <tr>\n",
       "      <th rowspan=\"2\" valign=\"top\">CONSDUR</th>\n",
       "      <th>EUR</th>\n",
       "      <td>0.029582</td>\n",
       "      <td>0.081042</td>\n",
       "      <td>-0.019651</td>\n",
       "    </tr>\n",
       "    <tr>\n",
       "      <th>USD</th>\n",
       "      <td>0.030196</td>\n",
       "      <td>0.080481</td>\n",
       "      <td>-0.020873</td>\n",
       "    </tr>\n",
       "    <tr>\n",
       "      <th rowspan=\"2\" valign=\"top\">ENERGY</th>\n",
       "      <th>EUR</th>\n",
       "      <td>0.031065</td>\n",
       "      <td>0.080331</td>\n",
       "      <td>-0.020125</td>\n",
       "    </tr>\n",
       "    <tr>\n",
       "      <th>USD</th>\n",
       "      <td>0.029103</td>\n",
       "      <td>0.079447</td>\n",
       "      <td>-0.019063</td>\n",
       "    </tr>\n",
       "    <tr>\n",
       "      <th rowspan=\"2\" valign=\"top\">FINANCIAL</th>\n",
       "      <th>EUR</th>\n",
       "      <td>0.030515</td>\n",
       "      <td>0.080257</td>\n",
       "      <td>-0.019157</td>\n",
       "    </tr>\n",
       "    <tr>\n",
       "      <th>USD</th>\n",
       "      <td>0.030136</td>\n",
       "      <td>0.079876</td>\n",
       "      <td>-0.021189</td>\n",
       "    </tr>\n",
       "    <tr>\n",
       "      <th rowspan=\"2\" valign=\"top\">SERVICES</th>\n",
       "      <th>EUR</th>\n",
       "      <td>0.029708</td>\n",
       "      <td>0.080014</td>\n",
       "      <td>-0.019633</td>\n",
       "    </tr>\n",
       "    <tr>\n",
       "      <th>USD</th>\n",
       "      <td>0.030452</td>\n",
       "      <td>0.079269</td>\n",
       "      <td>-0.020125</td>\n",
       "    </tr>\n",
       "    <tr>\n",
       "      <th rowspan=\"2\" valign=\"top\">TECH</th>\n",
       "      <th>EUR</th>\n",
       "      <td>0.030051</td>\n",
       "      <td>0.079526</td>\n",
       "      <td>-0.020394</td>\n",
       "    </tr>\n",
       "    <tr>\n",
       "      <th>USD</th>\n",
       "      <td>0.030406</td>\n",
       "      <td>0.080812</td>\n",
       "      <td>-0.019239</td>\n",
       "    </tr>\n",
       "    <tr>\n",
       "      <th rowspan=\"2\" valign=\"top\">UTILITIES</th>\n",
       "      <th>EUR</th>\n",
       "      <td>0.029994</td>\n",
       "      <td>0.079613</td>\n",
       "      <td>-0.020600</td>\n",
       "    </tr>\n",
       "    <tr>\n",
       "      <th>USD</th>\n",
       "      <td>0.030009</td>\n",
       "      <td>0.080998</td>\n",
       "      <td>-0.019796</td>\n",
       "    </tr>\n",
       "  </tbody>\n",
       "</table>\n",
       "</div>"
      ],
      "text/plain": [
       "               Momentum     Value  ShortInterest\n",
       "industry  ccy                                   \n",
       "CONSDUR   EUR  0.029582  0.081042      -0.019651\n",
       "          USD  0.030196  0.080481      -0.020873\n",
       "ENERGY    EUR  0.031065  0.080331      -0.020125\n",
       "          USD  0.029103  0.079447      -0.019063\n",
       "FINANCIAL EUR  0.030515  0.080257      -0.019157\n",
       "          USD  0.030136  0.079876      -0.021189\n",
       "SERVICES  EUR  0.029708  0.080014      -0.019633\n",
       "          USD  0.030452  0.079269      -0.020125\n",
       "TECH      EUR  0.030051  0.079526      -0.020394\n",
       "          USD  0.030406  0.080812      -0.019239\n",
       "UTILITIES EUR  0.029994  0.079613      -0.020600\n",
       "          USD  0.030009  0.080998      -0.019796"
      ]
     },
     "execution_count": 23,
     "metadata": {},
     "output_type": "execute_result"
    }
   ],
   "source": [
    "means = df.groupby([industries, ccy]).mean()\n",
    "means"
   ]
  },
  {
   "cell_type": "code",
   "execution_count": 24,
   "metadata": {
    "slideshow": {
     "slide_type": "subslide"
    }
   },
   "outputs": [
    {
     "data": {
      "text/html": [
       "<div>\n",
       "<style scoped>\n",
       "    .dataframe tbody tr th:only-of-type {\n",
       "        vertical-align: middle;\n",
       "    }\n",
       "\n",
       "    .dataframe tbody tr th {\n",
       "        vertical-align: top;\n",
       "    }\n",
       "\n",
       "    .dataframe thead tr th {\n",
       "        text-align: left;\n",
       "    }\n",
       "\n",
       "    .dataframe thead tr:last-of-type th {\n",
       "        text-align: right;\n",
       "    }\n",
       "</style>\n",
       "<table border=\"1\" class=\"dataframe\">\n",
       "  <thead>\n",
       "    <tr>\n",
       "      <th></th>\n",
       "      <th></th>\n",
       "      <th colspan=\"2\" halign=\"left\">Momentum</th>\n",
       "      <th colspan=\"2\" halign=\"left\">Value</th>\n",
       "      <th colspan=\"2\" halign=\"left\">ShortInterest</th>\n",
       "    </tr>\n",
       "    <tr>\n",
       "      <th></th>\n",
       "      <th></th>\n",
       "      <th>mean</th>\n",
       "      <th>std</th>\n",
       "      <th>mean</th>\n",
       "      <th>std</th>\n",
       "      <th>mean</th>\n",
       "      <th>std</th>\n",
       "    </tr>\n",
       "    <tr>\n",
       "      <th>industry</th>\n",
       "      <th>ccy</th>\n",
       "      <th></th>\n",
       "      <th></th>\n",
       "      <th></th>\n",
       "      <th></th>\n",
       "      <th></th>\n",
       "      <th></th>\n",
       "    </tr>\n",
       "  </thead>\n",
       "  <tbody>\n",
       "    <tr>\n",
       "      <th rowspan=\"2\" valign=\"top\">CONSDUR</th>\n",
       "      <th>EUR</th>\n",
       "      <td>8.591012e-16</td>\n",
       "      <td>1.0</td>\n",
       "      <td>-1.649474e-15</td>\n",
       "      <td>1.0</td>\n",
       "      <td>-9.516197e-16</td>\n",
       "      <td>1.0</td>\n",
       "    </tr>\n",
       "    <tr>\n",
       "      <th>USD</th>\n",
       "      <td>-7.401487e-16</td>\n",
       "      <td>1.0</td>\n",
       "      <td>6.140387e-15</td>\n",
       "      <td>1.0</td>\n",
       "      <td>2.135044e-17</td>\n",
       "      <td>1.0</td>\n",
       "    </tr>\n",
       "    <tr>\n",
       "      <th rowspan=\"2\" valign=\"top\">ENERGY</th>\n",
       "      <th>EUR</th>\n",
       "      <td>3.604082e-17</td>\n",
       "      <td>1.0</td>\n",
       "      <td>2.372895e-15</td>\n",
       "      <td>1.0</td>\n",
       "      <td>4.109482e-16</td>\n",
       "      <td>1.0</td>\n",
       "    </tr>\n",
       "    <tr>\n",
       "      <th>USD</th>\n",
       "      <td>-5.786629e-16</td>\n",
       "      <td>1.0</td>\n",
       "      <td>1.904686e-15</td>\n",
       "      <td>1.0</td>\n",
       "      <td>1.563619e-15</td>\n",
       "      <td>1.0</td>\n",
       "    </tr>\n",
       "    <tr>\n",
       "      <th rowspan=\"2\" valign=\"top\">FINANCIAL</th>\n",
       "      <th>EUR</th>\n",
       "      <td>-5.471813e-16</td>\n",
       "      <td>1.0</td>\n",
       "      <td>4.731665e-15</td>\n",
       "      <td>1.0</td>\n",
       "      <td>1.514661e-15</td>\n",
       "      <td>1.0</td>\n",
       "    </tr>\n",
       "    <tr>\n",
       "      <th>USD</th>\n",
       "      <td>-3.367270e-16</td>\n",
       "      <td>1.0</td>\n",
       "      <td>-3.694237e-15</td>\n",
       "      <td>1.0</td>\n",
       "      <td>-8.588978e-16</td>\n",
       "      <td>1.0</td>\n",
       "    </tr>\n",
       "    <tr>\n",
       "      <th rowspan=\"2\" valign=\"top\">SERVICES</th>\n",
       "      <th>EUR</th>\n",
       "      <td>-6.716849e-16</td>\n",
       "      <td>1.0</td>\n",
       "      <td>-4.131764e-15</td>\n",
       "      <td>1.0</td>\n",
       "      <td>-2.193384e-15</td>\n",
       "      <td>1.0</td>\n",
       "    </tr>\n",
       "    <tr>\n",
       "      <th>USD</th>\n",
       "      <td>-5.674473e-17</td>\n",
       "      <td>1.0</td>\n",
       "      <td>1.147230e-15</td>\n",
       "      <td>1.0</td>\n",
       "      <td>2.662685e-15</td>\n",
       "      <td>1.0</td>\n",
       "    </tr>\n",
       "    <tr>\n",
       "      <th rowspan=\"2\" valign=\"top\">TECH</th>\n",
       "      <th>EUR</th>\n",
       "      <td>1.468910e-15</td>\n",
       "      <td>1.0</td>\n",
       "      <td>-8.412074e-15</td>\n",
       "      <td>1.0</td>\n",
       "      <td>-1.615517e-15</td>\n",
       "      <td>1.0</td>\n",
       "    </tr>\n",
       "    <tr>\n",
       "      <th>USD</th>\n",
       "      <td>-8.425359e-16</td>\n",
       "      <td>1.0</td>\n",
       "      <td>-1.781291e-15</td>\n",
       "      <td>1.0</td>\n",
       "      <td>1.461794e-15</td>\n",
       "      <td>1.0</td>\n",
       "    </tr>\n",
       "    <tr>\n",
       "      <th rowspan=\"2\" valign=\"top\">UTILITIES</th>\n",
       "      <th>EUR</th>\n",
       "      <td>7.869935e-16</td>\n",
       "      <td>1.0</td>\n",
       "      <td>2.258390e-15</td>\n",
       "      <td>1.0</td>\n",
       "      <td>-1.618958e-15</td>\n",
       "      <td>1.0</td>\n",
       "    </tr>\n",
       "    <tr>\n",
       "      <th>USD</th>\n",
       "      <td>-3.755861e-16</td>\n",
       "      <td>1.0</td>\n",
       "      <td>3.892867e-15</td>\n",
       "      <td>1.0</td>\n",
       "      <td>6.755825e-16</td>\n",
       "      <td>1.0</td>\n",
       "    </tr>\n",
       "  </tbody>\n",
       "</table>\n",
       "</div>"
      ],
      "text/plain": [
       "                   Momentum              Value      ShortInterest     \n",
       "                       mean  std          mean  std          mean  std\n",
       "industry  ccy                                                         \n",
       "CONSDUR   EUR  8.591012e-16  1.0 -1.649474e-15  1.0 -9.516197e-16  1.0\n",
       "          USD -7.401487e-16  1.0  6.140387e-15  1.0  2.135044e-17  1.0\n",
       "ENERGY    EUR  3.604082e-17  1.0  2.372895e-15  1.0  4.109482e-16  1.0\n",
       "          USD -5.786629e-16  1.0  1.904686e-15  1.0  1.563619e-15  1.0\n",
       "FINANCIAL EUR -5.471813e-16  1.0  4.731665e-15  1.0  1.514661e-15  1.0\n",
       "          USD -3.367270e-16  1.0 -3.694237e-15  1.0 -8.588978e-16  1.0\n",
       "SERVICES  EUR -6.716849e-16  1.0 -4.131764e-15  1.0 -2.193384e-15  1.0\n",
       "          USD -5.674473e-17  1.0  1.147230e-15  1.0  2.662685e-15  1.0\n",
       "TECH      EUR  1.468910e-15  1.0 -8.412074e-15  1.0 -1.615517e-15  1.0\n",
       "          USD -8.425359e-16  1.0 -1.781291e-15  1.0  1.461794e-15  1.0\n",
       "UTILITIES EUR  7.869935e-16  1.0  2.258390e-15  1.0 -1.618958e-15  1.0\n",
       "          USD -3.755861e-16  1.0  3.892867e-15  1.0  6.755825e-16  1.0"
      ]
     },
     "execution_count": 24,
     "metadata": {},
     "output_type": "execute_result"
    }
   ],
   "source": [
    "normed = df.groupby([industries, ccy]).apply(zscore)\n",
    "normed.groupby([industries, ccy]).agg(['mean', 'std'])"
   ]
  },
  {
   "cell_type": "markdown",
   "metadata": {
    "slideshow": {
     "slide_type": "slide"
    }
   },
   "source": [
    "## Hierarchical indexing"
   ]
  },
  {
   "cell_type": "code",
   "execution_count": 25,
   "metadata": {},
   "outputs": [
    {
     "data": {
      "text/html": [
       "<div>\n",
       "<style scoped>\n",
       "    .dataframe tbody tr th:only-of-type {\n",
       "        vertical-align: middle;\n",
       "    }\n",
       "\n",
       "    .dataframe tbody tr th {\n",
       "        vertical-align: top;\n",
       "    }\n",
       "\n",
       "    .dataframe thead th {\n",
       "        text-align: right;\n",
       "    }\n",
       "</style>\n",
       "<table border=\"1\" class=\"dataframe\">\n",
       "  <thead>\n",
       "    <tr style=\"text-align: right;\">\n",
       "      <th></th>\n",
       "      <th></th>\n",
       "      <th>Momentum</th>\n",
       "      <th>Value</th>\n",
       "      <th>ShortInterest</th>\n",
       "    </tr>\n",
       "    <tr>\n",
       "      <th>industry</th>\n",
       "      <th>ccy</th>\n",
       "      <th></th>\n",
       "      <th></th>\n",
       "      <th></th>\n",
       "    </tr>\n",
       "  </thead>\n",
       "  <tbody>\n",
       "    <tr>\n",
       "      <th rowspan=\"2\" valign=\"top\">CONSDUR</th>\n",
       "      <th>EUR</th>\n",
       "      <td>0.029582</td>\n",
       "      <td>0.081042</td>\n",
       "      <td>-0.019651</td>\n",
       "    </tr>\n",
       "    <tr>\n",
       "      <th>USD</th>\n",
       "      <td>0.030196</td>\n",
       "      <td>0.080481</td>\n",
       "      <td>-0.020873</td>\n",
       "    </tr>\n",
       "    <tr>\n",
       "      <th rowspan=\"2\" valign=\"top\">ENERGY</th>\n",
       "      <th>EUR</th>\n",
       "      <td>0.031065</td>\n",
       "      <td>0.080331</td>\n",
       "      <td>-0.020125</td>\n",
       "    </tr>\n",
       "    <tr>\n",
       "      <th>USD</th>\n",
       "      <td>0.029103</td>\n",
       "      <td>0.079447</td>\n",
       "      <td>-0.019063</td>\n",
       "    </tr>\n",
       "    <tr>\n",
       "      <th rowspan=\"2\" valign=\"top\">FINANCIAL</th>\n",
       "      <th>EUR</th>\n",
       "      <td>0.030515</td>\n",
       "      <td>0.080257</td>\n",
       "      <td>-0.019157</td>\n",
       "    </tr>\n",
       "    <tr>\n",
       "      <th>USD</th>\n",
       "      <td>0.030136</td>\n",
       "      <td>0.079876</td>\n",
       "      <td>-0.021189</td>\n",
       "    </tr>\n",
       "    <tr>\n",
       "      <th rowspan=\"2\" valign=\"top\">SERVICES</th>\n",
       "      <th>EUR</th>\n",
       "      <td>0.029708</td>\n",
       "      <td>0.080014</td>\n",
       "      <td>-0.019633</td>\n",
       "    </tr>\n",
       "    <tr>\n",
       "      <th>USD</th>\n",
       "      <td>0.030452</td>\n",
       "      <td>0.079269</td>\n",
       "      <td>-0.020125</td>\n",
       "    </tr>\n",
       "    <tr>\n",
       "      <th rowspan=\"2\" valign=\"top\">TECH</th>\n",
       "      <th>EUR</th>\n",
       "      <td>0.030051</td>\n",
       "      <td>0.079526</td>\n",
       "      <td>-0.020394</td>\n",
       "    </tr>\n",
       "    <tr>\n",
       "      <th>USD</th>\n",
       "      <td>0.030406</td>\n",
       "      <td>0.080812</td>\n",
       "      <td>-0.019239</td>\n",
       "    </tr>\n",
       "    <tr>\n",
       "      <th rowspan=\"2\" valign=\"top\">UTILITIES</th>\n",
       "      <th>EUR</th>\n",
       "      <td>0.029994</td>\n",
       "      <td>0.079613</td>\n",
       "      <td>-0.020600</td>\n",
       "    </tr>\n",
       "    <tr>\n",
       "      <th>USD</th>\n",
       "      <td>0.030009</td>\n",
       "      <td>0.080998</td>\n",
       "      <td>-0.019796</td>\n",
       "    </tr>\n",
       "  </tbody>\n",
       "</table>\n",
       "</div>"
      ],
      "text/plain": [
       "               Momentum     Value  ShortInterest\n",
       "industry  ccy                                   \n",
       "CONSDUR   EUR  0.029582  0.081042      -0.019651\n",
       "          USD  0.030196  0.080481      -0.020873\n",
       "ENERGY    EUR  0.031065  0.080331      -0.020125\n",
       "          USD  0.029103  0.079447      -0.019063\n",
       "FINANCIAL EUR  0.030515  0.080257      -0.019157\n",
       "          USD  0.030136  0.079876      -0.021189\n",
       "SERVICES  EUR  0.029708  0.080014      -0.019633\n",
       "          USD  0.030452  0.079269      -0.020125\n",
       "TECH      EUR  0.030051  0.079526      -0.020394\n",
       "          USD  0.030406  0.080812      -0.019239\n",
       "UTILITIES EUR  0.029994  0.079613      -0.020600\n",
       "          USD  0.030009  0.080998      -0.019796"
      ]
     },
     "execution_count": 25,
     "metadata": {},
     "output_type": "execute_result"
    }
   ],
   "source": [
    "means"
   ]
  },
  {
   "cell_type": "code",
   "execution_count": 26,
   "metadata": {
    "slideshow": {
     "slide_type": "subslide"
    }
   },
   "outputs": [
    {
     "data": {
      "text/plain": [
       "industry   ccy\n",
       "CONSDUR    EUR    0.029582\n",
       "           USD    0.030196\n",
       "ENERGY     EUR    0.031065\n",
       "           USD    0.029103\n",
       "FINANCIAL  EUR    0.030515\n",
       "           USD    0.030136\n",
       "SERVICES   EUR    0.029708\n",
       "           USD    0.030452\n",
       "TECH       EUR    0.030051\n",
       "           USD    0.030406\n",
       "UTILITIES  EUR    0.029994\n",
       "           USD    0.030009\n",
       "Name: Momentum, dtype: float64"
      ]
     },
     "execution_count": 26,
     "metadata": {},
     "output_type": "execute_result"
    }
   ],
   "source": [
    "means['Momentum']"
   ]
  },
  {
   "cell_type": "code",
   "execution_count": 27,
   "metadata": {},
   "outputs": [
    {
     "data": {
      "text/html": [
       "<div>\n",
       "<style scoped>\n",
       "    .dataframe tbody tr th:only-of-type {\n",
       "        vertical-align: middle;\n",
       "    }\n",
       "\n",
       "    .dataframe tbody tr th {\n",
       "        vertical-align: top;\n",
       "    }\n",
       "\n",
       "    .dataframe thead th {\n",
       "        text-align: right;\n",
       "    }\n",
       "</style>\n",
       "<table border=\"1\" class=\"dataframe\">\n",
       "  <thead>\n",
       "    <tr style=\"text-align: right;\">\n",
       "      <th></th>\n",
       "      <th>Momentum</th>\n",
       "      <th>Value</th>\n",
       "      <th>ShortInterest</th>\n",
       "    </tr>\n",
       "    <tr>\n",
       "      <th>ccy</th>\n",
       "      <th></th>\n",
       "      <th></th>\n",
       "      <th></th>\n",
       "    </tr>\n",
       "  </thead>\n",
       "  <tbody>\n",
       "    <tr>\n",
       "      <th>EUR</th>\n",
       "      <td>0.030051</td>\n",
       "      <td>0.079526</td>\n",
       "      <td>-0.020394</td>\n",
       "    </tr>\n",
       "    <tr>\n",
       "      <th>USD</th>\n",
       "      <td>0.030406</td>\n",
       "      <td>0.080812</td>\n",
       "      <td>-0.019239</td>\n",
       "    </tr>\n",
       "  </tbody>\n",
       "</table>\n",
       "</div>"
      ],
      "text/plain": [
       "     Momentum     Value  ShortInterest\n",
       "ccy                                   \n",
       "EUR  0.030051  0.079526      -0.020394\n",
       "USD  0.030406  0.080812      -0.019239"
      ]
     },
     "execution_count": 27,
     "metadata": {},
     "output_type": "execute_result"
    }
   ],
   "source": [
    "means.loc['TECH']"
   ]
  },
  {
   "cell_type": "code",
   "execution_count": 28,
   "metadata": {
    "slideshow": {
     "slide_type": "subslide"
    }
   },
   "outputs": [
    {
     "data": {
      "text/plain": [
       "industry   ccy               \n",
       "CONSDUR    EUR  Momentum         0.029582\n",
       "                Value            0.081042\n",
       "                ShortInterest   -0.019651\n",
       "           USD  Momentum         0.030196\n",
       "                Value            0.080481\n",
       "                ShortInterest   -0.020873\n",
       "ENERGY     EUR  Momentum         0.031065\n",
       "                Value            0.080331\n",
       "                ShortInterest   -0.020125\n",
       "           USD  Momentum         0.029103\n",
       "                Value            0.079447\n",
       "                ShortInterest   -0.019063\n",
       "FINANCIAL  EUR  Momentum         0.030515\n",
       "                Value            0.080257\n",
       "                ShortInterest   -0.019157\n",
       "           USD  Momentum         0.030136\n",
       "                Value            0.079876\n",
       "                ShortInterest   -0.021189\n",
       "SERVICES   EUR  Momentum         0.029708\n",
       "                Value            0.080014\n",
       "                ShortInterest   -0.019633\n",
       "           USD  Momentum         0.030452\n",
       "                Value            0.079269\n",
       "                ShortInterest   -0.020125\n",
       "TECH       EUR  Momentum         0.030051\n",
       "                Value            0.079526\n",
       "                ShortInterest   -0.020394\n",
       "           USD  Momentum         0.030406\n",
       "                Value            0.080812\n",
       "                ShortInterest   -0.019239\n",
       "UTILITIES  EUR  Momentum         0.029994\n",
       "                Value            0.079613\n",
       "                ShortInterest   -0.020600\n",
       "           USD  Momentum         0.030009\n",
       "                Value            0.080998\n",
       "                ShortInterest   -0.019796\n",
       "dtype: float64"
      ]
     },
     "execution_count": 28,
     "metadata": {},
     "output_type": "execute_result"
    }
   ],
   "source": [
    "means.stack()"
   ]
  },
  {
   "cell_type": "code",
   "execution_count": 29,
   "metadata": {
    "slideshow": {
     "slide_type": "subslide"
    }
   },
   "outputs": [
    {
     "data": {
      "text/html": [
       "<div>\n",
       "<style scoped>\n",
       "    .dataframe tbody tr th:only-of-type {\n",
       "        vertical-align: middle;\n",
       "    }\n",
       "\n",
       "    .dataframe tbody tr th {\n",
       "        vertical-align: top;\n",
       "    }\n",
       "\n",
       "    .dataframe thead th {\n",
       "        text-align: right;\n",
       "    }\n",
       "</style>\n",
       "<table border=\"1\" class=\"dataframe\">\n",
       "  <thead>\n",
       "    <tr style=\"text-align: right;\">\n",
       "      <th></th>\n",
       "      <th>industry</th>\n",
       "      <th>CONSDUR</th>\n",
       "      <th>ENERGY</th>\n",
       "      <th>FINANCIAL</th>\n",
       "      <th>SERVICES</th>\n",
       "      <th>TECH</th>\n",
       "      <th>UTILITIES</th>\n",
       "    </tr>\n",
       "    <tr>\n",
       "      <th>ccy</th>\n",
       "      <th></th>\n",
       "      <th></th>\n",
       "      <th></th>\n",
       "      <th></th>\n",
       "      <th></th>\n",
       "      <th></th>\n",
       "      <th></th>\n",
       "    </tr>\n",
       "  </thead>\n",
       "  <tbody>\n",
       "    <tr>\n",
       "      <th rowspan=\"3\" valign=\"top\">EUR</th>\n",
       "      <th>Momentum</th>\n",
       "      <td>0.029582</td>\n",
       "      <td>0.031065</td>\n",
       "      <td>0.030515</td>\n",
       "      <td>0.029708</td>\n",
       "      <td>0.030051</td>\n",
       "      <td>0.029994</td>\n",
       "    </tr>\n",
       "    <tr>\n",
       "      <th>Value</th>\n",
       "      <td>0.081042</td>\n",
       "      <td>0.080331</td>\n",
       "      <td>0.080257</td>\n",
       "      <td>0.080014</td>\n",
       "      <td>0.079526</td>\n",
       "      <td>0.079613</td>\n",
       "    </tr>\n",
       "    <tr>\n",
       "      <th>ShortInterest</th>\n",
       "      <td>-0.019651</td>\n",
       "      <td>-0.020125</td>\n",
       "      <td>-0.019157</td>\n",
       "      <td>-0.019633</td>\n",
       "      <td>-0.020394</td>\n",
       "      <td>-0.020600</td>\n",
       "    </tr>\n",
       "    <tr>\n",
       "      <th rowspan=\"3\" valign=\"top\">USD</th>\n",
       "      <th>Momentum</th>\n",
       "      <td>0.030196</td>\n",
       "      <td>0.029103</td>\n",
       "      <td>0.030136</td>\n",
       "      <td>0.030452</td>\n",
       "      <td>0.030406</td>\n",
       "      <td>0.030009</td>\n",
       "    </tr>\n",
       "    <tr>\n",
       "      <th>Value</th>\n",
       "      <td>0.080481</td>\n",
       "      <td>0.079447</td>\n",
       "      <td>0.079876</td>\n",
       "      <td>0.079269</td>\n",
       "      <td>0.080812</td>\n",
       "      <td>0.080998</td>\n",
       "    </tr>\n",
       "    <tr>\n",
       "      <th>ShortInterest</th>\n",
       "      <td>-0.020873</td>\n",
       "      <td>-0.019063</td>\n",
       "      <td>-0.021189</td>\n",
       "      <td>-0.020125</td>\n",
       "      <td>-0.019239</td>\n",
       "      <td>-0.019796</td>\n",
       "    </tr>\n",
       "  </tbody>\n",
       "</table>\n",
       "</div>"
      ],
      "text/plain": [
       "industry            CONSDUR    ENERGY  FINANCIAL  SERVICES      TECH  \\\n",
       "ccy                                                                    \n",
       "EUR Momentum       0.029582  0.031065   0.030515  0.029708  0.030051   \n",
       "    Value          0.081042  0.080331   0.080257  0.080014  0.079526   \n",
       "    ShortInterest -0.019651 -0.020125  -0.019157 -0.019633 -0.020394   \n",
       "USD Momentum       0.030196  0.029103   0.030136  0.030452  0.030406   \n",
       "    Value          0.080481  0.079447   0.079876  0.079269  0.080812   \n",
       "    ShortInterest -0.020873 -0.019063  -0.021189 -0.020125 -0.019239   \n",
       "\n",
       "industry           UTILITIES  \n",
       "ccy                           \n",
       "EUR Momentum        0.029994  \n",
       "    Value           0.079613  \n",
       "    ShortInterest  -0.020600  \n",
       "USD Momentum        0.030009  \n",
       "    Value           0.080998  \n",
       "    ShortInterest  -0.019796  "
      ]
     },
     "execution_count": 29,
     "metadata": {},
     "output_type": "execute_result"
    }
   ],
   "source": [
    "means.stack().unstack('industry')"
   ]
  },
  {
   "cell_type": "markdown",
   "metadata": {
    "slideshow": {
     "slide_type": "slide"
    }
   },
   "source": [
    "## Merging and joining"
   ]
  },
  {
   "cell_type": "code",
   "execution_count": 30,
   "metadata": {},
   "outputs": [
    {
     "data": {
      "text/html": [
       "<div>\n",
       "<style scoped>\n",
       "    .dataframe tbody tr th:only-of-type {\n",
       "        vertical-align: middle;\n",
       "    }\n",
       "\n",
       "    .dataframe tbody tr th {\n",
       "        vertical-align: top;\n",
       "    }\n",
       "\n",
       "    .dataframe thead th {\n",
       "        text-align: right;\n",
       "    }\n",
       "</style>\n",
       "<table border=\"1\" class=\"dataframe\">\n",
       "  <thead>\n",
       "    <tr style=\"text-align: right;\">\n",
       "      <th></th>\n",
       "      <th>movie_id</th>\n",
       "      <th>title</th>\n",
       "      <th>genres</th>\n",
       "    </tr>\n",
       "  </thead>\n",
       "  <tbody>\n",
       "    <tr>\n",
       "      <th>0</th>\n",
       "      <td>1</td>\n",
       "      <td>Toy Story (1995)</td>\n",
       "      <td>Animation|Children's|Comedy</td>\n",
       "    </tr>\n",
       "    <tr>\n",
       "      <th>1</th>\n",
       "      <td>2</td>\n",
       "      <td>Jumanji (1995)</td>\n",
       "      <td>Adventure|Children's|Fantasy</td>\n",
       "    </tr>\n",
       "    <tr>\n",
       "      <th>2</th>\n",
       "      <td>3</td>\n",
       "      <td>Grumpier Old Men (1995)</td>\n",
       "      <td>Comedy|Romance</td>\n",
       "    </tr>\n",
       "    <tr>\n",
       "      <th>3</th>\n",
       "      <td>4</td>\n",
       "      <td>Waiting to Exhale (1995)</td>\n",
       "      <td>Comedy|Drama</td>\n",
       "    </tr>\n",
       "    <tr>\n",
       "      <th>4</th>\n",
       "      <td>5</td>\n",
       "      <td>Father of the Bride Part II (1995)</td>\n",
       "      <td>Comedy</td>\n",
       "    </tr>\n",
       "  </tbody>\n",
       "</table>\n",
       "</div>"
      ],
      "text/plain": [
       "   movie_id                               title                        genres\n",
       "0         1                    Toy Story (1995)   Animation|Children's|Comedy\n",
       "1         2                      Jumanji (1995)  Adventure|Children's|Fantasy\n",
       "2         3             Grumpier Old Men (1995)                Comedy|Romance\n",
       "3         4            Waiting to Exhale (1995)                  Comedy|Drama\n",
       "4         5  Father of the Bride Part II (1995)                        Comedy"
      ]
     },
     "execution_count": 30,
     "metadata": {},
     "output_type": "execute_result"
    }
   ],
   "source": [
    "movies.head()  "
   ]
  },
  {
   "cell_type": "code",
   "execution_count": 31,
   "metadata": {},
   "outputs": [
    {
     "data": {
      "text/html": [
       "<div>\n",
       "<style scoped>\n",
       "    .dataframe tbody tr th:only-of-type {\n",
       "        vertical-align: middle;\n",
       "    }\n",
       "\n",
       "    .dataframe tbody tr th {\n",
       "        vertical-align: top;\n",
       "    }\n",
       "\n",
       "    .dataframe thead th {\n",
       "        text-align: right;\n",
       "    }\n",
       "</style>\n",
       "<table border=\"1\" class=\"dataframe\">\n",
       "  <thead>\n",
       "    <tr style=\"text-align: right;\">\n",
       "      <th></th>\n",
       "      <th>user_id</th>\n",
       "      <th>movie_id</th>\n",
       "      <th>rating</th>\n",
       "      <th>timestamp</th>\n",
       "    </tr>\n",
       "  </thead>\n",
       "  <tbody>\n",
       "    <tr>\n",
       "      <th>0</th>\n",
       "      <td>1</td>\n",
       "      <td>1193</td>\n",
       "      <td>5</td>\n",
       "      <td>978300760</td>\n",
       "    </tr>\n",
       "    <tr>\n",
       "      <th>1</th>\n",
       "      <td>1</td>\n",
       "      <td>661</td>\n",
       "      <td>3</td>\n",
       "      <td>978302109</td>\n",
       "    </tr>\n",
       "    <tr>\n",
       "      <th>2</th>\n",
       "      <td>1</td>\n",
       "      <td>914</td>\n",
       "      <td>3</td>\n",
       "      <td>978301968</td>\n",
       "    </tr>\n",
       "    <tr>\n",
       "      <th>3</th>\n",
       "      <td>1</td>\n",
       "      <td>3408</td>\n",
       "      <td>4</td>\n",
       "      <td>978300275</td>\n",
       "    </tr>\n",
       "    <tr>\n",
       "      <th>4</th>\n",
       "      <td>1</td>\n",
       "      <td>2355</td>\n",
       "      <td>5</td>\n",
       "      <td>978824291</td>\n",
       "    </tr>\n",
       "  </tbody>\n",
       "</table>\n",
       "</div>"
      ],
      "text/plain": [
       "   user_id  movie_id  rating  timestamp\n",
       "0        1      1193       5  978300760\n",
       "1        1       661       3  978302109\n",
       "2        1       914       3  978301968\n",
       "3        1      3408       4  978300275\n",
       "4        1      2355       5  978824291"
      ]
     },
     "execution_count": 31,
     "metadata": {},
     "output_type": "execute_result"
    }
   ],
   "source": [
    "ratings.head()"
   ]
  },
  {
   "cell_type": "code",
   "execution_count": 32,
   "metadata": {},
   "outputs": [
    {
     "data": {
      "text/html": [
       "<div>\n",
       "<style scoped>\n",
       "    .dataframe tbody tr th:only-of-type {\n",
       "        vertical-align: middle;\n",
       "    }\n",
       "\n",
       "    .dataframe tbody tr th {\n",
       "        vertical-align: top;\n",
       "    }\n",
       "\n",
       "    .dataframe thead th {\n",
       "        text-align: right;\n",
       "    }\n",
       "</style>\n",
       "<table border=\"1\" class=\"dataframe\">\n",
       "  <thead>\n",
       "    <tr style=\"text-align: right;\">\n",
       "      <th></th>\n",
       "      <th>user_id</th>\n",
       "      <th>gender</th>\n",
       "      <th>age</th>\n",
       "      <th>occupation</th>\n",
       "      <th>zip</th>\n",
       "    </tr>\n",
       "  </thead>\n",
       "  <tbody>\n",
       "    <tr>\n",
       "      <th>0</th>\n",
       "      <td>1</td>\n",
       "      <td>F</td>\n",
       "      <td>1</td>\n",
       "      <td>10</td>\n",
       "      <td>48067</td>\n",
       "    </tr>\n",
       "    <tr>\n",
       "      <th>1</th>\n",
       "      <td>2</td>\n",
       "      <td>M</td>\n",
       "      <td>56</td>\n",
       "      <td>16</td>\n",
       "      <td>70072</td>\n",
       "    </tr>\n",
       "    <tr>\n",
       "      <th>2</th>\n",
       "      <td>3</td>\n",
       "      <td>M</td>\n",
       "      <td>25</td>\n",
       "      <td>15</td>\n",
       "      <td>55117</td>\n",
       "    </tr>\n",
       "    <tr>\n",
       "      <th>3</th>\n",
       "      <td>4</td>\n",
       "      <td>M</td>\n",
       "      <td>45</td>\n",
       "      <td>7</td>\n",
       "      <td>02460</td>\n",
       "    </tr>\n",
       "    <tr>\n",
       "      <th>4</th>\n",
       "      <td>5</td>\n",
       "      <td>M</td>\n",
       "      <td>25</td>\n",
       "      <td>20</td>\n",
       "      <td>55455</td>\n",
       "    </tr>\n",
       "  </tbody>\n",
       "</table>\n",
       "</div>"
      ],
      "text/plain": [
       "   user_id gender  age  occupation    zip\n",
       "0        1      F    1          10  48067\n",
       "1        2      M   56          16  70072\n",
       "2        3      M   25          15  55117\n",
       "3        4      M   45           7  02460\n",
       "4        5      M   25          20  55455"
      ]
     },
     "execution_count": 32,
     "metadata": {},
     "output_type": "execute_result"
    }
   ],
   "source": [
    "users.head()"
   ]
  },
  {
   "cell_type": "code",
   "execution_count": 33,
   "metadata": {
    "slideshow": {
     "slide_type": "subslide"
    }
   },
   "outputs": [
    {
     "name": "stdout",
     "output_type": "stream",
     "text": [
      "<class 'pandas.core.frame.DataFrame'>\n",
      "Int64Index: 1000209 entries, 0 to 1000208\n",
      "Data columns (total 10 columns):\n",
      "user_id       1000209 non-null int64\n",
      "movie_id      1000209 non-null int64\n",
      "rating        1000209 non-null int64\n",
      "timestamp     1000209 non-null int64\n",
      "gender        1000209 non-null object\n",
      "age           1000209 non-null int64\n",
      "occupation    1000209 non-null int64\n",
      "zip           1000209 non-null object\n",
      "title         1000209 non-null object\n",
      "genres        1000209 non-null object\n",
      "dtypes: int64(6), object(4)\n",
      "memory usage: 83.9+ MB\n"
     ]
    }
   ],
   "source": [
    "data = pd.merge(pd.merge(ratings, users), movies)\n",
    "data.info()"
   ]
  },
  {
   "cell_type": "code",
   "execution_count": 34,
   "metadata": {
    "slideshow": {
     "slide_type": "subslide"
    }
   },
   "outputs": [],
   "source": [
    "rating_counts = data.groupby('title').size()\n",
    "freq_titles = rating_counts.index[rating_counts > 1000]"
   ]
  },
  {
   "cell_type": "code",
   "execution_count": 35,
   "metadata": {
    "slideshow": {
     "slide_type": "subslide"
    }
   },
   "outputs": [
    {
     "data": {
      "text/plain": [
       "title\n",
       "Sixth Sense, The (1999)                                                        4.406263\n",
       "Casablanca (1942)                                                              4.412822\n",
       "Dr. Strangelove or: How I Learned to Stop Worrying and Love the Bomb (1963)    4.449890\n",
       "Star Wars: Episode IV - A New Hope (1977)                                      4.453694\n",
       "Rear Window (1954)                                                             4.476190\n",
       "Raiders of the Lost Ark (1981)                                                 4.477725\n",
       "Schindler's List (1993)                                                        4.510417\n",
       "Usual Suspects, The (1995)                                                     4.517106\n",
       "Godfather, The (1972)                                                          4.524966\n",
       "Shawshank Redemption, The (1994)                                               4.554558\n",
       "Name: rating, dtype: float64"
      ]
     },
     "execution_count": 35,
     "metadata": {},
     "output_type": "execute_result"
    }
   ],
   "source": [
    "highest_rated = data.groupby('title').rating.mean()[freq_titles].sort_values()[-10:]\n",
    "highest_rated"
   ]
  },
  {
   "cell_type": "markdown",
   "metadata": {
    "slideshow": {
     "slide_type": "slide"
    }
   },
   "source": [
    "## Pivot tables"
   ]
  },
  {
   "cell_type": "code",
   "execution_count": 36,
   "metadata": {},
   "outputs": [
    {
     "data": {
      "text/html": [
       "<div>\n",
       "<style scoped>\n",
       "    .dataframe tbody tr th:only-of-type {\n",
       "        vertical-align: middle;\n",
       "    }\n",
       "\n",
       "    .dataframe tbody tr th {\n",
       "        vertical-align: top;\n",
       "    }\n",
       "\n",
       "    .dataframe thead th {\n",
       "        text-align: right;\n",
       "    }\n",
       "</style>\n",
       "<table border=\"1\" class=\"dataframe\">\n",
       "  <thead>\n",
       "    <tr style=\"text-align: right;\">\n",
       "      <th>gender</th>\n",
       "      <th>F</th>\n",
       "      <th>M</th>\n",
       "    </tr>\n",
       "    <tr>\n",
       "      <th>title</th>\n",
       "      <th></th>\n",
       "      <th></th>\n",
       "    </tr>\n",
       "  </thead>\n",
       "  <tbody>\n",
       "    <tr>\n",
       "      <th>Young Poisoner's Handbook, The (1995)</th>\n",
       "      <td>4.000000</td>\n",
       "      <td>3.532258</td>\n",
       "    </tr>\n",
       "    <tr>\n",
       "      <th>Young Sherlock Holmes (1985)</th>\n",
       "      <td>3.514706</td>\n",
       "      <td>3.363344</td>\n",
       "    </tr>\n",
       "    <tr>\n",
       "      <th>Young and Innocent (1937)</th>\n",
       "      <td>2.500000</td>\n",
       "      <td>3.500000</td>\n",
       "    </tr>\n",
       "    <tr>\n",
       "      <th>Your Friends and Neighbors (1998)</th>\n",
       "      <td>2.888889</td>\n",
       "      <td>3.536585</td>\n",
       "    </tr>\n",
       "    <tr>\n",
       "      <th>Zachariah (1971)</th>\n",
       "      <td>NaN</td>\n",
       "      <td>3.500000</td>\n",
       "    </tr>\n",
       "    <tr>\n",
       "      <th>Zed &amp; Two Noughts, A (1985)</th>\n",
       "      <td>3.500000</td>\n",
       "      <td>3.380952</td>\n",
       "    </tr>\n",
       "    <tr>\n",
       "      <th>Zero Effect (1998)</th>\n",
       "      <td>3.864407</td>\n",
       "      <td>3.723140</td>\n",
       "    </tr>\n",
       "    <tr>\n",
       "      <th>Zero Kelvin (Kj�rlighetens kj�tere) (1995)</th>\n",
       "      <td>NaN</td>\n",
       "      <td>3.500000</td>\n",
       "    </tr>\n",
       "    <tr>\n",
       "      <th>Zeus and Roxanne (1997)</th>\n",
       "      <td>2.777778</td>\n",
       "      <td>2.357143</td>\n",
       "    </tr>\n",
       "    <tr>\n",
       "      <th>eXistenZ (1999)</th>\n",
       "      <td>3.098592</td>\n",
       "      <td>3.289086</td>\n",
       "    </tr>\n",
       "  </tbody>\n",
       "</table>\n",
       "</div>"
      ],
      "text/plain": [
       "gender                                             F         M\n",
       "title                                                         \n",
       "Young Poisoner's Handbook, The (1995)       4.000000  3.532258\n",
       "Young Sherlock Holmes (1985)                3.514706  3.363344\n",
       "Young and Innocent (1937)                   2.500000  3.500000\n",
       "Your Friends and Neighbors (1998)           2.888889  3.536585\n",
       "Zachariah (1971)                                 NaN  3.500000\n",
       "Zed & Two Noughts, A (1985)                 3.500000  3.380952\n",
       "Zero Effect (1998)                          3.864407  3.723140\n",
       "Zero Kelvin (Kj�rlighetens kj�tere) (1995)       NaN  3.500000\n",
       "Zeus and Roxanne (1997)                     2.777778  2.357143\n",
       "eXistenZ (1999)                             3.098592  3.289086"
      ]
     },
     "execution_count": 36,
     "metadata": {},
     "output_type": "execute_result"
    }
   ],
   "source": [
    "mean_ratings = data.pivot_table('rating', index='title', columns='gender', aggfunc='mean')\n",
    "mean_ratings.tail(10)"
   ]
  },
  {
   "cell_type": "markdown",
   "metadata": {
    "slideshow": {
     "slide_type": "slide"
    }
   },
   "source": [
    "## Data summary and statistics"
   ]
  },
  {
   "cell_type": "code",
   "execution_count": 37,
   "metadata": {},
   "outputs": [
    {
     "data": {
      "text/plain": [
       "American Beauty (1999)                                   3428\n",
       "Star Wars: Episode IV - A New Hope (1977)                2991\n",
       "Star Wars: Episode V - The Empire Strikes Back (1980)    2990\n",
       "Star Wars: Episode VI - Return of the Jedi (1983)        2883\n",
       "Jurassic Park (1993)                                     2672\n",
       "Saving Private Ryan (1998)                               2653\n",
       "Terminator 2: Judgment Day (1991)                        2649\n",
       "Matrix, The (1999)                                       2590\n",
       "Back to the Future (1985)                                2583\n",
       "Silence of the Lambs, The (1991)                         2578\n",
       "Name: title, dtype: int64"
      ]
     },
     "execution_count": 37,
     "metadata": {},
     "output_type": "execute_result"
    }
   ],
   "source": [
    "data.title.value_counts().head(10)"
   ]
  },
  {
   "cell_type": "code",
   "execution_count": 38,
   "metadata": {
    "slideshow": {
     "slide_type": "subslide"
    }
   },
   "outputs": [
    {
     "data": {
      "text/plain": [
       "count    1.000209e+06\n",
       "mean     3.581564e+00\n",
       "std      1.117102e+00\n",
       "min      1.000000e+00\n",
       "25%      3.000000e+00\n",
       "50%      4.000000e+00\n",
       "75%      4.000000e+00\n",
       "max      5.000000e+00\n",
       "Name: rating, dtype: float64"
      ]
     },
     "execution_count": 38,
     "metadata": {},
     "output_type": "execute_result"
    }
   ],
   "source": [
    "data.rating.describe()"
   ]
  },
  {
   "cell_type": "code",
   "execution_count": 39,
   "metadata": {
    "slideshow": {
     "slide_type": "subslide"
    }
   },
   "outputs": [
    {
     "data": {
      "text/html": [
       "<div>\n",
       "<style scoped>\n",
       "    .dataframe tbody tr th:only-of-type {\n",
       "        vertical-align: middle;\n",
       "    }\n",
       "\n",
       "    .dataframe tbody tr th {\n",
       "        vertical-align: top;\n",
       "    }\n",
       "\n",
       "    .dataframe thead th {\n",
       "        text-align: right;\n",
       "    }\n",
       "</style>\n",
       "<table border=\"1\" class=\"dataframe\">\n",
       "  <thead>\n",
       "    <tr style=\"text-align: right;\">\n",
       "      <th></th>\n",
       "      <th>count</th>\n",
       "      <th>mean</th>\n",
       "      <th>std</th>\n",
       "      <th>min</th>\n",
       "      <th>25%</th>\n",
       "      <th>50%</th>\n",
       "      <th>75%</th>\n",
       "      <th>max</th>\n",
       "    </tr>\n",
       "    <tr>\n",
       "      <th>gender</th>\n",
       "      <th></th>\n",
       "      <th></th>\n",
       "      <th></th>\n",
       "      <th></th>\n",
       "      <th></th>\n",
       "      <th></th>\n",
       "      <th></th>\n",
       "      <th></th>\n",
       "    </tr>\n",
       "  </thead>\n",
       "  <tbody>\n",
       "    <tr>\n",
       "      <th>F</th>\n",
       "      <td>246440.0</td>\n",
       "      <td>3.620366</td>\n",
       "      <td>1.111228</td>\n",
       "      <td>1.0</td>\n",
       "      <td>3.0</td>\n",
       "      <td>4.0</td>\n",
       "      <td>4.0</td>\n",
       "      <td>5.0</td>\n",
       "    </tr>\n",
       "    <tr>\n",
       "      <th>M</th>\n",
       "      <td>753769.0</td>\n",
       "      <td>3.568879</td>\n",
       "      <td>1.118724</td>\n",
       "      <td>1.0</td>\n",
       "      <td>3.0</td>\n",
       "      <td>4.0</td>\n",
       "      <td>4.0</td>\n",
       "      <td>5.0</td>\n",
       "    </tr>\n",
       "  </tbody>\n",
       "</table>\n",
       "</div>"
      ],
      "text/plain": [
       "           count      mean       std  min  25%  50%  75%  max\n",
       "gender                                                       \n",
       "F       246440.0  3.620366  1.111228  1.0  3.0  4.0  4.0  5.0\n",
       "M       753769.0  3.568879  1.118724  1.0  3.0  4.0  4.0  5.0"
      ]
     },
     "execution_count": 39,
     "metadata": {},
     "output_type": "execute_result"
    }
   ],
   "source": [
    "by_gender = data.groupby('gender').rating.describe()\n",
    "by_gender"
   ]
  },
  {
   "cell_type": "code",
   "execution_count": 40,
   "metadata": {
    "slideshow": {
     "slide_type": "subslide"
    }
   },
   "outputs": [
    {
     "data": {
      "text/html": [
       "<div>\n",
       "<style scoped>\n",
       "    .dataframe tbody tr th:only-of-type {\n",
       "        vertical-align: middle;\n",
       "    }\n",
       "\n",
       "    .dataframe tbody tr th {\n",
       "        vertical-align: top;\n",
       "    }\n",
       "\n",
       "    .dataframe thead th {\n",
       "        text-align: right;\n",
       "    }\n",
       "</style>\n",
       "<table border=\"1\" class=\"dataframe\">\n",
       "  <thead>\n",
       "    <tr style=\"text-align: right;\">\n",
       "      <th>gender</th>\n",
       "      <th>F</th>\n",
       "      <th>M</th>\n",
       "    </tr>\n",
       "  </thead>\n",
       "  <tbody>\n",
       "    <tr>\n",
       "      <th>count</th>\n",
       "      <td>246440.000000</td>\n",
       "      <td>753769.000000</td>\n",
       "    </tr>\n",
       "    <tr>\n",
       "      <th>mean</th>\n",
       "      <td>3.620366</td>\n",
       "      <td>3.568879</td>\n",
       "    </tr>\n",
       "    <tr>\n",
       "      <th>std</th>\n",
       "      <td>1.111228</td>\n",
       "      <td>1.118724</td>\n",
       "    </tr>\n",
       "    <tr>\n",
       "      <th>min</th>\n",
       "      <td>1.000000</td>\n",
       "      <td>1.000000</td>\n",
       "    </tr>\n",
       "    <tr>\n",
       "      <th>25%</th>\n",
       "      <td>3.000000</td>\n",
       "      <td>3.000000</td>\n",
       "    </tr>\n",
       "    <tr>\n",
       "      <th>50%</th>\n",
       "      <td>4.000000</td>\n",
       "      <td>4.000000</td>\n",
       "    </tr>\n",
       "    <tr>\n",
       "      <th>75%</th>\n",
       "      <td>4.000000</td>\n",
       "      <td>4.000000</td>\n",
       "    </tr>\n",
       "    <tr>\n",
       "      <th>max</th>\n",
       "      <td>5.000000</td>\n",
       "      <td>5.000000</td>\n",
       "    </tr>\n",
       "  </tbody>\n",
       "</table>\n",
       "</div>"
      ],
      "text/plain": [
       "gender              F              M\n",
       "count   246440.000000  753769.000000\n",
       "mean         3.620366       3.568879\n",
       "std          1.111228       1.118724\n",
       "min          1.000000       1.000000\n",
       "25%          3.000000       3.000000\n",
       "50%          4.000000       4.000000\n",
       "75%          4.000000       4.000000\n",
       "max          5.000000       5.000000"
      ]
     },
     "execution_count": 40,
     "metadata": {},
     "output_type": "execute_result"
    }
   ],
   "source": [
    "by_gender.stack().unstack(0)"
   ]
  },
  {
   "cell_type": "markdown",
   "metadata": {
    "slideshow": {
     "slide_type": "slide"
    }
   },
   "source": [
    "# Questions"
   ]
  }
 ],
 "metadata": {
  "celltoolbar": "Slideshow",
  "kernelspec": {
   "display_name": "Python 3",
   "language": "python",
   "name": "python3"
  },
  "language_info": {
   "codemirror_mode": {
    "name": "ipython",
    "version": 3
   },
   "file_extension": ".py",
   "mimetype": "text/x-python",
   "name": "python",
   "nbconvert_exporter": "python",
   "pygments_lexer": "ipython3",
   "version": "3.7.3"
  },
  "livereveal": {
   "autolaunch": true,
   "scroll": true
  }
 },
 "nbformat": 4,
 "nbformat_minor": 2
}
